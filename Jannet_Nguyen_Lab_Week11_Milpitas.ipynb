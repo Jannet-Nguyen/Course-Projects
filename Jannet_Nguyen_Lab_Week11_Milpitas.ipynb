{
  "nbformat": 4,
  "nbformat_minor": 0,
  "metadata": {
    "colab": {
      "provenance": []
    },
    "kernelspec": {
      "name": "python3",
      "display_name": "Python 3"
    },
    "language_info": {
      "name": "python"
    }
  },
  "cells": [
    {
      "cell_type": "markdown",
      "source": [
        "1) Write a Python program to sum recursion lists using recursion.\n",
        "\n",
        "Test Data: [1, 2, [3,4], [5,6]]\n",
        "\n",
        "Expected Result: 21"
      ],
      "metadata": {
        "id": "DyBIMH_IwkPe"
      }
    },
    {
      "cell_type": "code",
      "execution_count": null,
      "metadata": {
        "id": "gK_XR-IowfqB",
        "colab": {
          "base_uri": "https://localhost:8080/"
        },
        "outputId": "2779ff9f-8bb3-4988-9744-ca4ec89a170f"
      },
      "outputs": [
        {
          "output_type": "stream",
          "name": "stdout",
          "text": [
            "21\n",
            "231\n"
          ]
        }
      ],
      "source": [
        "def rec_sum(n):\n",
        "    if n < 0:\n",
        "        print(\"The summation is not defined for negative integers.\")\n",
        "        return -1\n",
        "    elif n == 0:           # Base case\n",
        "        return 0\n",
        "    else:\n",
        "        return n + rec_sum(n-1)\n",
        "\n",
        "n = int(input())\n",
        "\n",
        "print(rec_sum(n))"
      ]
    },
    {
      "cell_type": "markdown",
      "source": [
        "2) Write a Python program to get the sum of a non-negative integer using recursion.\n",
        "\n",
        "Test Data:\n",
        "\n",
        "sumDigits(345) -> 12\n",
        "\n",
        "sumDigits(45) -> 9"
      ],
      "metadata": {
        "id": "1Af5zI8ywq3f"
      }
    },
    {
      "cell_type": "code",
      "source": [
        "def sumDigits(n):\n",
        "    if n < 0:\n",
        "        print(\"The summation is not defined for negative integers.\")\n",
        "        return -1\n",
        "    elif n == 0:           # Base case\n",
        "        return 0\n",
        "    else:\n",
        "        return n % 10 + sumDigits(n // 10)\n",
        "\n",
        "n = int(input())\n",
        "print()\n",
        "print(sumDigits(n))\n",
        "print()\n",
        "print(sumDigits(345))\n",
        "print(sumDigits(45))"
      ],
      "metadata": {
        "id": "5iJMnYLGw8Py",
        "colab": {
          "base_uri": "https://localhost:8080/"
        },
        "outputId": "4c1dbbb1-f0b3-493c-beda-f8e43b492dbd"
      },
      "execution_count": null,
      "outputs": [
        {
          "output_type": "stream",
          "name": "stdout",
          "text": [
            "10\n",
            "\n",
            "1\n",
            "\n",
            "12\n",
            "9\n"
          ]
        }
      ]
    },
    {
      "cell_type": "markdown",
      "source": [
        "3) Write a Python program to calculate the sum of the positive integers of n+(n-2)+(n-4)... (until n-x =< 0) using recursion .\n",
        "\n",
        "Test Data:\n",
        "\n",
        "sum_series(6) -> 12\n",
        "\n",
        "sum_series(10) -> 30"
      ],
      "metadata": {
        "id": "zBr9RLRUw89l"
      }
    },
    {
      "cell_type": "code",
      "source": [
        "def sum_series(n):\n",
        "    if n < 0:\n",
        "        print(\"The summation is not defined for negative integers.\")\n",
        "        return -1\n",
        "    elif n == 0:           # Base case\n",
        "        return 0\n",
        "    else:\n",
        "        return n + sum_series(n-2)\n",
        "\n",
        "n = int(input())\n",
        "print()\n",
        "print(sum_series(n))\n",
        "print()\n",
        "print(sum_series(6))\n",
        "print(sum_series(10))"
      ],
      "metadata": {
        "id": "Fq6OedSgxMEM",
        "colab": {
          "base_uri": "https://localhost:8080/"
        },
        "outputId": "ece854bb-36ec-4575-a00a-e927c224af35"
      },
      "execution_count": null,
      "outputs": [
        {
          "output_type": "stream",
          "name": "stdout",
          "text": [
            "12\n",
            "\n",
            "42\n",
            "\n",
            "12\n",
            "30\n"
          ]
        }
      ]
    },
    {
      "cell_type": "markdown",
      "source": [
        "4)  Write a Python program to find the greatest common divisor (GCD) of two integers using recursion."
      ],
      "metadata": {
        "id": "tksgcUImxMn9"
      }
    },
    {
      "cell_type": "code",
      "source": [
        "def gcd(a, b):\n",
        "      if a == b: # Base case\n",
        "        return a\n",
        "      elif a < b: # Recursive case\n",
        "        return gcd(a, b - a)\n",
        "      else:\n",
        "        return gcd(a - b, a)\n",
        "\n",
        "print(gcd(13, 23))\n",
        "print(gcd(5, 15))"
      ],
      "metadata": {
        "id": "VcP5zvE8xX92",
        "colab": {
          "base_uri": "https://localhost:8080/"
        },
        "outputId": "7e3312f9-7d4e-4bce-abc2-1833ba253a34"
      },
      "execution_count": null,
      "outputs": [
        {
          "output_type": "stream",
          "name": "stdout",
          "text": [
            "1\n",
            "5\n"
          ]
        }
      ]
    }
  ]
}